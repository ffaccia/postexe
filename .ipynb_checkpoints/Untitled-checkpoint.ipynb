{
 "cells": [
  {
   "cell_type": "code",
   "execution_count": 13,
   "id": "5490339c",
   "metadata": {},
   "outputs": [],
   "source": [
    "import re\n",
    "m = re.search(r'[0-9]{10}.pdf$','0187123456.PDF')\n"
   ]
  },
  {
   "cell_type": "code",
   "execution_count": 14,
   "id": "7fd07b58",
   "metadata": {},
   "outputs": [],
   "source": [
    "m"
   ]
  },
  {
   "cell_type": "code",
   "execution_count": 33,
   "id": "bb10be2b",
   "metadata": {},
   "outputs": [],
   "source": [
    "string='187123456.pDF'\n",
    "prog = re.compile(r'[0-9]{9,10}.pdf$', re.IGNORECASE)\n",
    "result = prog.match(string)"
   ]
  },
  {
   "cell_type": "code",
   "execution_count": 34,
   "id": "02af8cb0",
   "metadata": {},
   "outputs": [
    {
     "name": "stdout",
     "output_type": "stream",
     "text": [
      "si\n"
     ]
    }
   ],
   "source": [
    "if result != None:\n",
    "    print (\"si\")\n",
    "else:\n",
    "    print(\"no\")"
   ]
  },
  {
   "cell_type": "code",
   "execution_count": 37,
   "id": "c2483c11",
   "metadata": {},
   "outputs": [],
   "source": [
    "o1={\"fra\": \"10\"}\n",
    "def modify(o):\n",
    "    o[\"fra2\"] = \"20\""
   ]
  },
  {
   "cell_type": "code",
   "execution_count": 38,
   "id": "587bafb8",
   "metadata": {},
   "outputs": [
    {
     "data": {
      "text/plain": [
       "{'fra': '10', 'fra2': '20'}"
      ]
     },
     "execution_count": 38,
     "metadata": {},
     "output_type": "execute_result"
    }
   ],
   "source": [
    "modify(o1)\n",
    "o1"
   ]
  },
  {
   "cell_type": "code",
   "execution_count": 54,
   "id": "6508e6c2",
   "metadata": {},
   "outputs": [
    {
     "data": {
      "text/plain": [
       "'H3gj+ZV85xSI+xw28lWDCA=='"
      ]
     },
     "execution_count": 54,
     "metadata": {},
     "output_type": "execute_result"
    }
   ],
   "source": [
    "import base64\n",
    "import os, json\n",
    "#base64.b64encode(\"francesco\")\n",
    "base64.b64encode(os.urandom(16)).decode('utf-8')"
   ]
  },
  {
   "cell_type": "code",
   "execution_count": 48,
   "id": "41971942",
   "metadata": {},
   "outputs": [],
   "source": [
    "import os\n",
    "import base64\n",
    "os.chdir(r'C:\\Users\\f.faccia\\Downloads')\n",
    "filename=\"FACCIA_skill_2018.pdf\"\n",
    "file=os.path.basename(filename).lower()\n",
    "fbase = ''.join(file.split(\".\")[:-1])\n",
    "template_body = '''\n",
    "{\"vbeln\": \"{0}\",\n",
    "    \"file\": \"{1}\",\n",
    "    \"nomefile\": \"{2}\",\n",
    "    \"tipo\": \"{3}\"}\n",
    "\n",
    "'''\n"
   ]
  },
  {
   "cell_type": "code",
   "execution_count": 71,
   "id": "ac148b1e",
   "metadata": {},
   "outputs": [
    {
     "data": {
      "text/plain": [
       "b'francesco'"
      ]
     },
     "execution_count": 71,
     "metadata": {},
     "output_type": "execute_result"
    }
   ],
   "source": [
    "(\"%s%s\" % (\"fra\", \"ncesco\")).encode('ascii')"
   ]
  },
  {
   "cell_type": "code",
   "execution_count": 72,
   "id": "4dec49e8",
   "metadata": {},
   "outputs": [
    {
     "data": {
      "text/plain": [
       "'Basic ZnJhbmNlc2Nv'"
      ]
     },
     "execution_count": 72,
     "metadata": {},
     "output_type": "execute_result"
    }
   ],
   "source": [
    "'Basic %s' % \\\n",
    "base64.b64encode((\"%s%s\" % (\"fra\", \"ncesco\")).encode('ascii')).decode('utf-8')"
   ]
  },
  {
   "cell_type": "code",
   "execution_count": 65,
   "id": "fccfe971",
   "metadata": {},
   "outputs": [
    {
     "data": {
      "text/plain": [
       "b'eW91ciBzdHJpbmc='"
      ]
     },
     "execution_count": 65,
     "metadata": {},
     "output_type": "execute_result"
    }
   ],
   "source": [
    "base64.b64encode(bytes('your string', 'utf-8'))"
   ]
  },
  {
   "cell_type": "code",
   "execution_count": 68,
   "id": "19c8489d",
   "metadata": {},
   "outputs": [
    {
     "ename": "TypeError",
     "evalue": "a bytes-like object is required, not 'str'",
     "output_type": "error",
     "traceback": [
      "\u001b[1;31m---------------------------------------------------------------------------\u001b[0m",
      "\u001b[1;31mTypeError\u001b[0m                                 Traceback (most recent call last)",
      "\u001b[1;32mC:\\Users\\F777A~1.FAC\\AppData\\Local\\Temp/ipykernel_16312/3373064587.py\u001b[0m in \u001b[0;36m<module>\u001b[1;34m\u001b[0m\n\u001b[0;32m      1\u001b[0m \u001b[0mmessage\u001b[0m \u001b[1;33m=\u001b[0m \u001b[1;34m\"Python is fun\"\u001b[0m\u001b[1;33m\u001b[0m\u001b[1;33m\u001b[0m\u001b[0m\n\u001b[0;32m      2\u001b[0m \u001b[1;31m#message_bytes = message.encode('ascii')\u001b[0m\u001b[1;33m\u001b[0m\u001b[1;33m\u001b[0m\u001b[1;33m\u001b[0m\u001b[0m\n\u001b[1;32m----> 3\u001b[1;33m \u001b[0mbase64_bytes\u001b[0m \u001b[1;33m=\u001b[0m \u001b[0mbase64\u001b[0m\u001b[1;33m.\u001b[0m\u001b[0mb64encode\u001b[0m\u001b[1;33m(\u001b[0m\u001b[0mmessage\u001b[0m\u001b[1;33m)\u001b[0m\u001b[1;33m\u001b[0m\u001b[1;33m\u001b[0m\u001b[0m\n\u001b[0m\u001b[0;32m      4\u001b[0m \u001b[0mbase64_bytes\u001b[0m\u001b[1;33m\u001b[0m\u001b[1;33m\u001b[0m\u001b[0m\n",
      "\u001b[1;32mc:\\users\\f.faccia\\python\\python39\\lib\\base64.py\u001b[0m in \u001b[0;36mb64encode\u001b[1;34m(s, altchars)\u001b[0m\n\u001b[0;32m     56\u001b[0m     \u001b[0mapplication\u001b[0m \u001b[0mto\u001b[0m \u001b[0me\u001b[0m\u001b[1;33m.\u001b[0m\u001b[0mg\u001b[0m\u001b[1;33m.\u001b[0m \u001b[0mgenerate\u001b[0m \u001b[0murl\u001b[0m \u001b[1;32mor\u001b[0m \u001b[0mfilesystem\u001b[0m \u001b[0msafe\u001b[0m \u001b[0mBase64\u001b[0m \u001b[0mstrings\u001b[0m\u001b[1;33m.\u001b[0m\u001b[1;33m\u001b[0m\u001b[1;33m\u001b[0m\u001b[0m\n\u001b[0;32m     57\u001b[0m     \"\"\"\n\u001b[1;32m---> 58\u001b[1;33m     \u001b[0mencoded\u001b[0m \u001b[1;33m=\u001b[0m \u001b[0mbinascii\u001b[0m\u001b[1;33m.\u001b[0m\u001b[0mb2a_base64\u001b[0m\u001b[1;33m(\u001b[0m\u001b[0ms\u001b[0m\u001b[1;33m,\u001b[0m \u001b[0mnewline\u001b[0m\u001b[1;33m=\u001b[0m\u001b[1;32mFalse\u001b[0m\u001b[1;33m)\u001b[0m\u001b[1;33m\u001b[0m\u001b[1;33m\u001b[0m\u001b[0m\n\u001b[0m\u001b[0;32m     59\u001b[0m     \u001b[1;32mif\u001b[0m \u001b[0maltchars\u001b[0m \u001b[1;32mis\u001b[0m \u001b[1;32mnot\u001b[0m \u001b[1;32mNone\u001b[0m\u001b[1;33m:\u001b[0m\u001b[1;33m\u001b[0m\u001b[1;33m\u001b[0m\u001b[0m\n\u001b[0;32m     60\u001b[0m         \u001b[1;32massert\u001b[0m \u001b[0mlen\u001b[0m\u001b[1;33m(\u001b[0m\u001b[0maltchars\u001b[0m\u001b[1;33m)\u001b[0m \u001b[1;33m==\u001b[0m \u001b[1;36m2\u001b[0m\u001b[1;33m,\u001b[0m \u001b[0mrepr\u001b[0m\u001b[1;33m(\u001b[0m\u001b[0maltchars\u001b[0m\u001b[1;33m)\u001b[0m\u001b[1;33m\u001b[0m\u001b[1;33m\u001b[0m\u001b[0m\n",
      "\u001b[1;31mTypeError\u001b[0m: a bytes-like object is required, not 'str'"
     ]
    }
   ],
   "source": [
    "message = \"Python is fun\"\n",
    "#message_bytes = message.encode('ascii')\n",
    "base64_bytes = base64.b64encode(message)\n",
    "base64_bytes"
   ]
  },
  {
   "cell_type": "code",
   "execution_count": 62,
   "id": "1a6b8560",
   "metadata": {},
   "outputs": [
    {
     "ename": "TypeError",
     "evalue": "a bytes-like object is required, not 'str'",
     "output_type": "error",
     "traceback": [
      "\u001b[1;31m---------------------------------------------------------------------------\u001b[0m",
      "\u001b[1;31mTypeError\u001b[0m                                 Traceback (most recent call last)",
      "\u001b[1;32mC:\\Users\\F777A~1.FAC\\AppData\\Local\\Temp/ipykernel_16312/2987736490.py\u001b[0m in \u001b[0;36m<module>\u001b[1;34m\u001b[0m\n\u001b[1;32m----> 1\u001b[1;33m \u001b[0mbase64\u001b[0m\u001b[1;33m.\u001b[0m\u001b[0mb64encode\u001b[0m\u001b[1;33m(\u001b[0m\u001b[1;34m\"francesco\"\u001b[0m\u001b[1;33m)\u001b[0m\u001b[1;33m.\u001b[0m\u001b[0mdecode\u001b[0m\u001b[1;33m(\u001b[0m\u001b[1;34m'utf-8'\u001b[0m\u001b[1;33m)\u001b[0m\u001b[1;33m\u001b[0m\u001b[1;33m\u001b[0m\u001b[0m\n\u001b[0m",
      "\u001b[1;32mc:\\users\\f.faccia\\python\\python39\\lib\\base64.py\u001b[0m in \u001b[0;36mb64encode\u001b[1;34m(s, altchars)\u001b[0m\n\u001b[0;32m     56\u001b[0m     \u001b[0mapplication\u001b[0m \u001b[0mto\u001b[0m \u001b[0me\u001b[0m\u001b[1;33m.\u001b[0m\u001b[0mg\u001b[0m\u001b[1;33m.\u001b[0m \u001b[0mgenerate\u001b[0m \u001b[0murl\u001b[0m \u001b[1;32mor\u001b[0m \u001b[0mfilesystem\u001b[0m \u001b[0msafe\u001b[0m \u001b[0mBase64\u001b[0m \u001b[0mstrings\u001b[0m\u001b[1;33m.\u001b[0m\u001b[1;33m\u001b[0m\u001b[1;33m\u001b[0m\u001b[0m\n\u001b[0;32m     57\u001b[0m     \"\"\"\n\u001b[1;32m---> 58\u001b[1;33m     \u001b[0mencoded\u001b[0m \u001b[1;33m=\u001b[0m \u001b[0mbinascii\u001b[0m\u001b[1;33m.\u001b[0m\u001b[0mb2a_base64\u001b[0m\u001b[1;33m(\u001b[0m\u001b[0ms\u001b[0m\u001b[1;33m,\u001b[0m \u001b[0mnewline\u001b[0m\u001b[1;33m=\u001b[0m\u001b[1;32mFalse\u001b[0m\u001b[1;33m)\u001b[0m\u001b[1;33m\u001b[0m\u001b[1;33m\u001b[0m\u001b[0m\n\u001b[0m\u001b[0;32m     59\u001b[0m     \u001b[1;32mif\u001b[0m \u001b[0maltchars\u001b[0m \u001b[1;32mis\u001b[0m \u001b[1;32mnot\u001b[0m \u001b[1;32mNone\u001b[0m\u001b[1;33m:\u001b[0m\u001b[1;33m\u001b[0m\u001b[1;33m\u001b[0m\u001b[0m\n\u001b[0;32m     60\u001b[0m         \u001b[1;32massert\u001b[0m \u001b[0mlen\u001b[0m\u001b[1;33m(\u001b[0m\u001b[0maltchars\u001b[0m\u001b[1;33m)\u001b[0m \u001b[1;33m==\u001b[0m \u001b[1;36m2\u001b[0m\u001b[1;33m,\u001b[0m \u001b[0mrepr\u001b[0m\u001b[1;33m(\u001b[0m\u001b[0maltchars\u001b[0m\u001b[1;33m)\u001b[0m\u001b[1;33m\u001b[0m\u001b[1;33m\u001b[0m\u001b[0m\n",
      "\u001b[1;31mTypeError\u001b[0m: a bytes-like object is required, not 'str'"
     ]
    }
   ],
   "source": [
    "base64.b64encode(\"francesco\").decode('utf-8')"
   ]
  },
  {
   "cell_type": "code",
   "execution_count": 53,
   "id": "9ec8a10c",
   "metadata": {},
   "outputs": [
    {
     "data": {
      "text/plain": [
       "'\\n{\"vbeln\": \"faccia_skill_2018\",\\n    \"file\": \"u4dqZQDTBfeZP61LnTEUTA==\",\\n    \"nomefile\": \"faccia_skill_2018.pdf\",\\n    \"tipo\": \"NPRV\"}\\n\\n'"
      ]
     },
     "execution_count": 53,
     "metadata": {},
     "output_type": "execute_result"
    }
   ],
   "source": [
    "template_body2 % (fbase, \n",
    "                     base64.b64encode(os.urandom(16)).decode('utf-8'),\n",
    "                     file,\n",
    "                     \"NPRV\"\n",
    "                    )"
   ]
  },
  {
   "cell_type": "code",
   "execution_count": 58,
   "id": "664eb055",
   "metadata": {},
   "outputs": [
    {
     "data": {
      "text/plain": [
       "{'vbeln': 'faccia_skill_2018',\n",
       " 'file': 'OnxSJFwTeEyEZ07k2CdA5g==',\n",
       " 'nomefile': 'faccia_skill_2018.pdf',\n",
       " 'tipo': 'NPRV'}"
      ]
     },
     "execution_count": 58,
     "metadata": {},
     "output_type": "execute_result"
    }
   ],
   "source": [
    "t=json.loads(template_body)\n",
    "t[\"vbeln\"] = fbase\n",
    "t[\"file\"] = base64.b64encode(os.urandom(16)).decode('utf-8')\n",
    "t[\"nomefile\"] = file\n",
    "t[\"tipo\"] = \"NPRV\"\n",
    "t"
   ]
  },
  {
   "cell_type": "code",
   "execution_count": 59,
   "id": "273a2562",
   "metadata": {},
   "outputs": [],
   "source": [
    "import requests"
   ]
  },
  {
   "cell_type": "code",
   "execution_count": 60,
   "id": "3e9273ed",
   "metadata": {},
   "outputs": [
    {
     "data": {
      "text/plain": [
       "['ConnectTimeout',\n",
       " 'ConnectionError',\n",
       " 'DependencyWarning',\n",
       " 'FileModeWarning',\n",
       " 'HTTPError',\n",
       " 'NullHandler',\n",
       " 'PreparedRequest',\n",
       " 'ReadTimeout',\n",
       " 'Request',\n",
       " 'RequestException',\n",
       " 'RequestsDependencyWarning',\n",
       " 'Response',\n",
       " 'Session',\n",
       " 'Timeout',\n",
       " 'TooManyRedirects',\n",
       " 'URLRequired',\n",
       " '__author__',\n",
       " '__author_email__',\n",
       " '__build__',\n",
       " '__builtins__',\n",
       " '__cached__',\n",
       " '__cake__',\n",
       " '__copyright__',\n",
       " '__description__',\n",
       " '__doc__',\n",
       " '__file__',\n",
       " '__license__',\n",
       " '__loader__',\n",
       " '__name__',\n",
       " '__package__',\n",
       " '__path__',\n",
       " '__spec__',\n",
       " '__title__',\n",
       " '__url__',\n",
       " '__version__',\n",
       " '_check_cryptography',\n",
       " '_internal_utils',\n",
       " 'adapters',\n",
       " 'api',\n",
       " 'auth',\n",
       " 'certs',\n",
       " 'chardet_version',\n",
       " 'charset_normalizer_version',\n",
       " 'check_compatibility',\n",
       " 'codes',\n",
       " 'compat',\n",
       " 'cookies',\n",
       " 'delete',\n",
       " 'exceptions',\n",
       " 'get',\n",
       " 'head',\n",
       " 'hooks',\n",
       " 'logging',\n",
       " 'models',\n",
       " 'options',\n",
       " 'packages',\n",
       " 'patch',\n",
       " 'post',\n",
       " 'put',\n",
       " 'request',\n",
       " 'session',\n",
       " 'sessions',\n",
       " 'ssl',\n",
       " 'status_codes',\n",
       " 'structures',\n",
       " 'urllib3',\n",
       " 'utils',\n",
       " 'warnings']"
      ]
     },
     "execution_count": 60,
     "metadata": {},
     "output_type": "execute_result"
    }
   ],
   "source": [
    "dir(requests)"
   ]
  },
  {
   "cell_type": "code",
   "execution_count": 73,
   "id": "b7d1183d",
   "metadata": {},
   "outputs": [],
   "source": [
    "r = requests.get('https://api.github.com/events')"
   ]
  },
  {
   "cell_type": "code",
   "execution_count": 74,
   "id": "0e1302db",
   "metadata": {},
   "outputs": [
    {
     "data": {
      "text/plain": [
       "['__attrs__',\n",
       " '__bool__',\n",
       " '__class__',\n",
       " '__delattr__',\n",
       " '__dict__',\n",
       " '__dir__',\n",
       " '__doc__',\n",
       " '__enter__',\n",
       " '__eq__',\n",
       " '__exit__',\n",
       " '__format__',\n",
       " '__ge__',\n",
       " '__getattribute__',\n",
       " '__getstate__',\n",
       " '__gt__',\n",
       " '__hash__',\n",
       " '__init__',\n",
       " '__init_subclass__',\n",
       " '__iter__',\n",
       " '__le__',\n",
       " '__lt__',\n",
       " '__module__',\n",
       " '__ne__',\n",
       " '__new__',\n",
       " '__nonzero__',\n",
       " '__reduce__',\n",
       " '__reduce_ex__',\n",
       " '__repr__',\n",
       " '__setattr__',\n",
       " '__setstate__',\n",
       " '__sizeof__',\n",
       " '__str__',\n",
       " '__subclasshook__',\n",
       " '__weakref__',\n",
       " '_content',\n",
       " '_content_consumed',\n",
       " '_next',\n",
       " 'apparent_encoding',\n",
       " 'close',\n",
       " 'connection',\n",
       " 'content',\n",
       " 'cookies',\n",
       " 'elapsed',\n",
       " 'encoding',\n",
       " 'headers',\n",
       " 'history',\n",
       " 'is_permanent_redirect',\n",
       " 'is_redirect',\n",
       " 'iter_content',\n",
       " 'iter_lines',\n",
       " 'json',\n",
       " 'links',\n",
       " 'next',\n",
       " 'ok',\n",
       " 'raise_for_status',\n",
       " 'raw',\n",
       " 'reason',\n",
       " 'request',\n",
       " 'status_code',\n",
       " 'text',\n",
       " 'url']"
      ]
     },
     "execution_count": 74,
     "metadata": {},
     "output_type": "execute_result"
    }
   ],
   "source": [
    "dir(r)"
   ]
  },
  {
   "cell_type": "code",
   "execution_count": 106,
   "id": "b2088e08",
   "metadata": {},
   "outputs": [],
   "source": [
    "def get_headers_post():\n",
    "    headers = {}\n",
    "    headers['X-CSRF-token'] = \"t_E1qX6dQbf1fpBYI30LzDwVKuWT2r6e\"\n",
    "    headers['Cookie'] = \"JSESSIONID=142DF3B40A53C75F97D5D9D6DD5A37E8\"\n",
    "\n",
    "    headers['Authorization'] = \"Basic c2ItMTEzYmJiNTktNDhkYy00ZjU4LTlhOWUtNjZkYmJiM2NkYmZiIWIxMzE0NjR8aXQtcnQtc2FwLWNsb3VkLWZvdW5kcnktZGV2LXF1YS1mYXVvcTc2OSFiMTE3OTEyOjBlNmI4MGU5LTMyNmEtNDhkYy04YTVhLWRkZDYxMTgyMWZiZiRCUEhHOFcwWlZKaVQyT0VWNUp3NzQ0VEpOSDMwMzJ5ZFVaT2U4YnMtcl9RPQ==\"\n",
    "    headers['Accept'] = 'application/json' \n",
    "    headers['Content-Type'] = 'application/json' \n",
    "\n",
    "    return headers\n",
    "    \n",
    "    "
   ]
  },
  {
   "cell_type": "code",
   "execution_count": 107,
   "id": "0117c8d5",
   "metadata": {},
   "outputs": [],
   "source": [
    "payload = {}\n",
    "realfile=r\"C:\\Users\\f.faccia\\Downloads\\0187092455.pdf\"\n",
    "#base64.b64encode(open(realfile,\"rb\").read())\n",
    "url=\"https://webhook.site/0a144bdb-da97-4808-99b8-e4f8a5e03a7a\"\n",
    "url=\"https://sap-cloud-foundry-dev-qua-fauoq769.it-cpi018-rt.cfapps.eu10-003.hana.ondemand.com/http/CEVA/InsertAttachment\"\n",
    "\n",
    "#payload = json.loads(template_body)\n",
    "payload[\"vbeln\"] = fbase\n",
    "payload[\"file\"] = base64.b64encode(open(realfile,\"rb\").read()).decode('utf8')\n",
    "payload[\"nomefile\"] = os.path.basename(realfile)\n",
    "payload[\"tipo\"] = \"DDT\""
   ]
  },
  {
   "cell_type": "code",
   "execution_count": 108,
   "id": "f179c91b",
   "metadata": {},
   "outputs": [],
   "source": [
    "r = requests.post(url, headers=get_headers_post(), data=json.dumps(payload))"
   ]
  },
  {
   "cell_type": "code",
   "execution_count": 112,
   "id": "281e39f1",
   "metadata": {},
   "outputs": [
    {
     "data": {
      "text/plain": [
       "'{\"vbeln\": \"faccia_skill_2018\", \"file\": \"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\", \"nomefile\": \"0187092455.pdf\", \"tipo\": \"DDT\"}'"
      ]
     },
     "execution_count": 112,
     "metadata": {},
     "output_type": "execute_result"
    }
   ],
   "source": [
    "json.dumps(payload)"
   ]
  },
  {
   "cell_type": "code",
   "execution_count": null,
   "id": "77ce70ed",
   "metadata": {},
   "outputs": [],
   "source": []
  }
 ],
 "metadata": {
  "kernelspec": {
   "display_name": "post",
   "language": "python",
   "name": "post"
  },
  "language_info": {
   "codemirror_mode": {
    "name": "ipython",
    "version": 3
   },
   "file_extension": ".py",
   "mimetype": "text/x-python",
   "name": "python",
   "nbconvert_exporter": "python",
   "pygments_lexer": "ipython3",
   "version": "3.9.5"
  }
 },
 "nbformat": 4,
 "nbformat_minor": 5
}
