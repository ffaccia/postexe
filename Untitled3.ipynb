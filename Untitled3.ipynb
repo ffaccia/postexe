{
 "cells": [
  {
   "cell_type": "code",
   "execution_count": 1,
   "id": "6d475c9f",
   "metadata": {},
   "outputs": [],
   "source": [
    "import tkinter"
   ]
  },
  {
   "cell_type": "code",
   "execution_count": 29,
   "id": "1be79ed0",
   "metadata": {},
   "outputs": [],
   "source": [
    "import tkinter as tk\n",
    "from tkinter import simpledialog\n",
    "app=Tk()\n",
    "\n",
    "class MyDialog(tk.simpledialog.Dialog):\n",
    "    def __init__(self, parent, title):\n",
    "        self.my_username = None\n",
    "        self.my_password = None\n",
    "        super().__init__(parent, title)\n",
    "\n",
    "    def body(self, frame):\n",
    "        # print(type(frame)) # tkinter.Frame\n",
    "        self.my_username_label = tk.Label(frame, width=25, text=\"Username\")\n",
    "        self.my_username_label.pack()\n",
    "        self.my_username_box = tk.Entry(frame, width=25)\n",
    "        self.my_username_box.pack()\n",
    "\n",
    "        self.my_password_label = tk.Label(frame, width=25, text=\"Password\")\n",
    "        self.my_password_label.pack()\n",
    "        self.my_password_box = tk.Entry(frame, width=25)\n",
    "        self.my_password_box.pack()\n",
    "        self.my_password_box['show'] = '*'\n",
    "\n",
    "        return frame\n",
    "\n",
    "    def ok_pressed(self):\n",
    "        # print(\"ok\")\n",
    "        self.my_username = self.my_username_box.get()\n",
    "        self.my_password = self.my_password_box.get()\n",
    "        self.destroy()\n",
    "\n",
    "    def cancel_pressed(self):\n",
    "        # print(\"cancel\")\n",
    "        self.destroy()\n",
    "\n",
    "\n",
    "    def buttonbox(self):\n",
    "        self.ok_button = tk.Button(self, text='OK', width=5, command=self.ok_pressed)\n",
    "        self.ok_button.pack(side=\"left\")\n",
    "        cancel_button = tk.Button(self, text='Cancel', width=5, command=self.cancel_pressed)\n",
    "        cancel_button.pack(side=\"right\")\n",
    "        self.bind(\"<Return>\", lambda event: self.ok_pressed())\n",
    "        self.bind(\"<Escape>\", lambda event: self.cancel_pressed())\n",
    "\n",
    "def mydialog(app):\n",
    "    dialog = MyDialog(title=\"Login\", parent=app)\n",
    "    return dialog.my_username, dialog.my_password\n",
    "\n",
    "\n",
    "def main():\n",
    "\n",
    "    app.title('Dialog')\n",
    "\n",
    "    string_button = tk.Button(app, text='Show', width=25, command=show_dialog)\n",
    "    string_button.pack()\n",
    "\n",
    "    exit_button = tk.Button(app, text='Close', width=25, command=app.destroy)\n",
    "    exit_button.pack()\n",
    "\n",
    "    app.mainloop()\n",
    "\n",
    "def show_dialog():\n",
    "    answer = mydialog(app)\n",
    "    # print(type(answer)) # tuple\n",
    "    print(answer)"
   ]
  },
  {
   "cell_type": "code",
   "execution_count": 30,
   "id": "b604dc84",
   "metadata": {},
   "outputs": [],
   "source": [
    "main()"
   ]
  },
  {
   "cell_type": "code",
   "execution_count": null,
   "id": "1662bf61",
   "metadata": {},
   "outputs": [],
   "source": []
  }
 ],
 "metadata": {
  "kernelspec": {
   "display_name": "tkpost",
   "language": "python",
   "name": "tkpost"
  },
  "language_info": {
   "codemirror_mode": {
    "name": "ipython",
    "version": 3
   },
   "file_extension": ".py",
   "mimetype": "text/x-python",
   "name": "python",
   "nbconvert_exporter": "python",
   "pygments_lexer": "ipython3",
   "version": "3.7.3"
  }
 },
 "nbformat": 4,
 "nbformat_minor": 5
}
