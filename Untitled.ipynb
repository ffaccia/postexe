{
 "cells": [
  {
   "cell_type": "code",
   "execution_count": 13,
   "id": "a0bacb30",
   "metadata": {},
   "outputs": [],
   "source": [
    "import re\n",
    "m = re.search(r'[0-9]{10}.pdf$','0187123456.PDF')\n"
   ]
  },
  {
   "cell_type": "code",
   "execution_count": 14,
   "id": "4ced5e51",
   "metadata": {},
   "outputs": [],
   "source": [
    "m"
   ]
  },
  {
   "cell_type": "code",
   "execution_count": 33,
   "id": "54cb1dd9",
   "metadata": {},
   "outputs": [],
   "source": [
    "string='187123456.pDF'\n",
    "prog = re.compile(r'[0-9]{9,10}.pdf$', re.IGNORECASE)\n",
    "result = prog.match(string)"
   ]
  },
  {
   "cell_type": "code",
   "execution_count": 34,
   "id": "10dc17b9",
   "metadata": {},
   "outputs": [
    {
     "name": "stdout",
     "output_type": "stream",
     "text": [
      "si\n"
     ]
    }
   ],
   "source": [
    "if result != None:\n",
    "    print (\"si\")\n",
    "else:\n",
    "    print(\"no\")"
   ]
  },
  {
   "cell_type": "code",
   "execution_count": 37,
   "id": "255c91b9",
   "metadata": {},
   "outputs": [],
   "source": [
    "o1={\"fra\": \"10\"}\n",
    "def modify(o):\n",
    "    o[\"fra2\"] = \"20\""
   ]
  },
  {
   "cell_type": "code",
   "execution_count": 38,
   "id": "3ace713c",
   "metadata": {},
   "outputs": [
    {
     "data": {
      "text/plain": [
       "{'fra': '10', 'fra2': '20'}"
      ]
     },
     "execution_count": 38,
     "metadata": {},
     "output_type": "execute_result"
    }
   ],
   "source": [
    "modify(o1)\n",
    "o1"
   ]
  },
  {
   "cell_type": "code",
   "execution_count": 54,
   "id": "6319d3e3",
   "metadata": {},
   "outputs": [
    {
     "data": {
      "text/plain": [
       "'H3gj+ZV85xSI+xw28lWDCA=='"
      ]
     },
     "execution_count": 54,
     "metadata": {},
     "output_type": "execute_result"
    }
   ],
   "source": [
    "import base64\n",
    "import os, json\n",
    "#base64.b64encode(\"francesco\")\n",
    "base64.b64encode(os.urandom(16)).decode('utf-8')"
   ]
  },
  {
   "cell_type": "code",
   "execution_count": 48,
   "id": "038d448d",
   "metadata": {},
   "outputs": [],
   "source": [
    "import os\n",
    "import base64\n",
    "os.chdir(r'C:\\Users\\f.faccia\\Downloads')\n",
    "filename=\"FACCIA_skill_2018.pdf\"\n",
    "file=os.path.basename(filename).lower()\n",
    "fbase = ''.join(file.split(\".\")[:-1])\n",
    "template_body = '''\n",
    "{\"vbeln\": \"{0}\",\n",
    "    \"file\": \"{1}\",\n",
    "    \"nomefile\": \"{2}\",\n",
    "    \"tipo\": \"{3}\"}\n",
    "\n",
    "'''\n"
   ]
  },
  {
   "cell_type": "code",
   "execution_count": 71,
   "id": "94c5a4d5",
   "metadata": {},
   "outputs": [
    {
     "data": {
      "text/plain": [
       "b'francesco'"
      ]
     },
     "execution_count": 71,
     "metadata": {},
     "output_type": "execute_result"
    }
   ],
   "source": [
    "(\"%s%s\" % (\"fra\", \"ncesco\")).encode('ascii')"
   ]
  },
  {
   "cell_type": "code",
   "execution_count": 72,
   "id": "8fceb03b",
   "metadata": {},
   "outputs": [
    {
     "data": {
      "text/plain": [
       "'Basic ZnJhbmNlc2Nv'"
      ]
     },
     "execution_count": 72,
     "metadata": {},
     "output_type": "execute_result"
    }
   ],
   "source": [
    "'Basic %s' % \\\n",
    "base64.b64encode((\"%s%s\" % (\"fra\", \"ncesco\")).encode('ascii')).decode('utf-8')"
   ]
  },
  {
   "cell_type": "code",
   "execution_count": 65,
   "id": "497e830d",
   "metadata": {},
   "outputs": [
    {
     "data": {
      "text/plain": [
       "b'eW91ciBzdHJpbmc='"
      ]
     },
     "execution_count": 65,
     "metadata": {},
     "output_type": "execute_result"
    }
   ],
   "source": [
    "base64.b64encode(bytes('your string', 'utf-8'))"
   ]
  },
  {
   "cell_type": "code",
   "execution_count": 68,
   "id": "4e9428f6",
   "metadata": {},
   "outputs": [
    {
     "ename": "TypeError",
     "evalue": "a bytes-like object is required, not 'str'",
     "output_type": "error",
     "traceback": [
      "\u001b[1;31m---------------------------------------------------------------------------\u001b[0m",
      "\u001b[1;31mTypeError\u001b[0m                                 Traceback (most recent call last)",
      "\u001b[1;32mC:\\Users\\F777A~1.FAC\\AppData\\Local\\Temp/ipykernel_16312/3373064587.py\u001b[0m in \u001b[0;36m<module>\u001b[1;34m\u001b[0m\n\u001b[0;32m      1\u001b[0m \u001b[0mmessage\u001b[0m \u001b[1;33m=\u001b[0m \u001b[1;34m\"Python is fun\"\u001b[0m\u001b[1;33m\u001b[0m\u001b[1;33m\u001b[0m\u001b[0m\n\u001b[0;32m      2\u001b[0m \u001b[1;31m#message_bytes = message.encode('ascii')\u001b[0m\u001b[1;33m\u001b[0m\u001b[1;33m\u001b[0m\u001b[1;33m\u001b[0m\u001b[0m\n\u001b[1;32m----> 3\u001b[1;33m \u001b[0mbase64_bytes\u001b[0m \u001b[1;33m=\u001b[0m \u001b[0mbase64\u001b[0m\u001b[1;33m.\u001b[0m\u001b[0mb64encode\u001b[0m\u001b[1;33m(\u001b[0m\u001b[0mmessage\u001b[0m\u001b[1;33m)\u001b[0m\u001b[1;33m\u001b[0m\u001b[1;33m\u001b[0m\u001b[0m\n\u001b[0m\u001b[0;32m      4\u001b[0m \u001b[0mbase64_bytes\u001b[0m\u001b[1;33m\u001b[0m\u001b[1;33m\u001b[0m\u001b[0m\n",
      "\u001b[1;32mc:\\users\\f.faccia\\python\\python39\\lib\\base64.py\u001b[0m in \u001b[0;36mb64encode\u001b[1;34m(s, altchars)\u001b[0m\n\u001b[0;32m     56\u001b[0m     \u001b[0mapplication\u001b[0m \u001b[0mto\u001b[0m \u001b[0me\u001b[0m\u001b[1;33m.\u001b[0m\u001b[0mg\u001b[0m\u001b[1;33m.\u001b[0m \u001b[0mgenerate\u001b[0m \u001b[0murl\u001b[0m \u001b[1;32mor\u001b[0m \u001b[0mfilesystem\u001b[0m \u001b[0msafe\u001b[0m \u001b[0mBase64\u001b[0m \u001b[0mstrings\u001b[0m\u001b[1;33m.\u001b[0m\u001b[1;33m\u001b[0m\u001b[1;33m\u001b[0m\u001b[0m\n\u001b[0;32m     57\u001b[0m     \"\"\"\n\u001b[1;32m---> 58\u001b[1;33m     \u001b[0mencoded\u001b[0m \u001b[1;33m=\u001b[0m \u001b[0mbinascii\u001b[0m\u001b[1;33m.\u001b[0m\u001b[0mb2a_base64\u001b[0m\u001b[1;33m(\u001b[0m\u001b[0ms\u001b[0m\u001b[1;33m,\u001b[0m \u001b[0mnewline\u001b[0m\u001b[1;33m=\u001b[0m\u001b[1;32mFalse\u001b[0m\u001b[1;33m)\u001b[0m\u001b[1;33m\u001b[0m\u001b[1;33m\u001b[0m\u001b[0m\n\u001b[0m\u001b[0;32m     59\u001b[0m     \u001b[1;32mif\u001b[0m \u001b[0maltchars\u001b[0m \u001b[1;32mis\u001b[0m \u001b[1;32mnot\u001b[0m \u001b[1;32mNone\u001b[0m\u001b[1;33m:\u001b[0m\u001b[1;33m\u001b[0m\u001b[1;33m\u001b[0m\u001b[0m\n\u001b[0;32m     60\u001b[0m         \u001b[1;32massert\u001b[0m \u001b[0mlen\u001b[0m\u001b[1;33m(\u001b[0m\u001b[0maltchars\u001b[0m\u001b[1;33m)\u001b[0m \u001b[1;33m==\u001b[0m \u001b[1;36m2\u001b[0m\u001b[1;33m,\u001b[0m \u001b[0mrepr\u001b[0m\u001b[1;33m(\u001b[0m\u001b[0maltchars\u001b[0m\u001b[1;33m)\u001b[0m\u001b[1;33m\u001b[0m\u001b[1;33m\u001b[0m\u001b[0m\n",
      "\u001b[1;31mTypeError\u001b[0m: a bytes-like object is required, not 'str'"
     ]
    }
   ],
   "source": [
    "message = \"Python is fun\"\n",
    "#message_bytes = message.encode('ascii')\n",
    "base64_bytes = base64.b64encode(message)\n",
    "base64_bytes"
   ]
  },
  {
   "cell_type": "code",
   "execution_count": 62,
   "id": "5e1aa7bd",
   "metadata": {},
   "outputs": [
    {
     "ename": "TypeError",
     "evalue": "a bytes-like object is required, not 'str'",
     "output_type": "error",
     "traceback": [
      "\u001b[1;31m---------------------------------------------------------------------------\u001b[0m",
      "\u001b[1;31mTypeError\u001b[0m                                 Traceback (most recent call last)",
      "\u001b[1;32mC:\\Users\\F777A~1.FAC\\AppData\\Local\\Temp/ipykernel_16312/2987736490.py\u001b[0m in \u001b[0;36m<module>\u001b[1;34m\u001b[0m\n\u001b[1;32m----> 1\u001b[1;33m \u001b[0mbase64\u001b[0m\u001b[1;33m.\u001b[0m\u001b[0mb64encode\u001b[0m\u001b[1;33m(\u001b[0m\u001b[1;34m\"francesco\"\u001b[0m\u001b[1;33m)\u001b[0m\u001b[1;33m.\u001b[0m\u001b[0mdecode\u001b[0m\u001b[1;33m(\u001b[0m\u001b[1;34m'utf-8'\u001b[0m\u001b[1;33m)\u001b[0m\u001b[1;33m\u001b[0m\u001b[1;33m\u001b[0m\u001b[0m\n\u001b[0m",
      "\u001b[1;32mc:\\users\\f.faccia\\python\\python39\\lib\\base64.py\u001b[0m in \u001b[0;36mb64encode\u001b[1;34m(s, altchars)\u001b[0m\n\u001b[0;32m     56\u001b[0m     \u001b[0mapplication\u001b[0m \u001b[0mto\u001b[0m \u001b[0me\u001b[0m\u001b[1;33m.\u001b[0m\u001b[0mg\u001b[0m\u001b[1;33m.\u001b[0m \u001b[0mgenerate\u001b[0m \u001b[0murl\u001b[0m \u001b[1;32mor\u001b[0m \u001b[0mfilesystem\u001b[0m \u001b[0msafe\u001b[0m \u001b[0mBase64\u001b[0m \u001b[0mstrings\u001b[0m\u001b[1;33m.\u001b[0m\u001b[1;33m\u001b[0m\u001b[1;33m\u001b[0m\u001b[0m\n\u001b[0;32m     57\u001b[0m     \"\"\"\n\u001b[1;32m---> 58\u001b[1;33m     \u001b[0mencoded\u001b[0m \u001b[1;33m=\u001b[0m \u001b[0mbinascii\u001b[0m\u001b[1;33m.\u001b[0m\u001b[0mb2a_base64\u001b[0m\u001b[1;33m(\u001b[0m\u001b[0ms\u001b[0m\u001b[1;33m,\u001b[0m \u001b[0mnewline\u001b[0m\u001b[1;33m=\u001b[0m\u001b[1;32mFalse\u001b[0m\u001b[1;33m)\u001b[0m\u001b[1;33m\u001b[0m\u001b[1;33m\u001b[0m\u001b[0m\n\u001b[0m\u001b[0;32m     59\u001b[0m     \u001b[1;32mif\u001b[0m \u001b[0maltchars\u001b[0m \u001b[1;32mis\u001b[0m \u001b[1;32mnot\u001b[0m \u001b[1;32mNone\u001b[0m\u001b[1;33m:\u001b[0m\u001b[1;33m\u001b[0m\u001b[1;33m\u001b[0m\u001b[0m\n\u001b[0;32m     60\u001b[0m         \u001b[1;32massert\u001b[0m \u001b[0mlen\u001b[0m\u001b[1;33m(\u001b[0m\u001b[0maltchars\u001b[0m\u001b[1;33m)\u001b[0m \u001b[1;33m==\u001b[0m \u001b[1;36m2\u001b[0m\u001b[1;33m,\u001b[0m \u001b[0mrepr\u001b[0m\u001b[1;33m(\u001b[0m\u001b[0maltchars\u001b[0m\u001b[1;33m)\u001b[0m\u001b[1;33m\u001b[0m\u001b[1;33m\u001b[0m\u001b[0m\n",
      "\u001b[1;31mTypeError\u001b[0m: a bytes-like object is required, not 'str'"
     ]
    }
   ],
   "source": [
    "base64.b64encode(\"francesco\").decode('utf-8')"
   ]
  },
  {
   "cell_type": "code",
   "execution_count": 53,
   "id": "64739a8d",
   "metadata": {},
   "outputs": [
    {
     "data": {
      "text/plain": [
       "'\\n{\"vbeln\": \"faccia_skill_2018\",\\n    \"file\": \"u4dqZQDTBfeZP61LnTEUTA==\",\\n    \"nomefile\": \"faccia_skill_2018.pdf\",\\n    \"tipo\": \"NPRV\"}\\n\\n'"
      ]
     },
     "execution_count": 53,
     "metadata": {},
     "output_type": "execute_result"
    }
   ],
   "source": [
    "template_body2 % (fbase, \n",
    "                     base64.b64encode(os.urandom(16)).decode('utf-8'),\n",
    "                     file,\n",
    "                     \"NPRV\"\n",
    "                    )"
   ]
  },
  {
   "cell_type": "code",
   "execution_count": 58,
   "id": "d80e6f86",
   "metadata": {},
   "outputs": [
    {
     "data": {
      "text/plain": [
       "{'vbeln': 'faccia_skill_2018',\n",
       " 'file': 'OnxSJFwTeEyEZ07k2CdA5g==',\n",
       " 'nomefile': 'faccia_skill_2018.pdf',\n",
       " 'tipo': 'NPRV'}"
      ]
     },
     "execution_count": 58,
     "metadata": {},
     "output_type": "execute_result"
    }
   ],
   "source": [
    "t=json.loads(template_body)\n",
    "t[\"vbeln\"] = fbase\n",
    "t[\"file\"] = base64.b64encode(os.urandom(16)).decode('utf-8')\n",
    "t[\"nomefile\"] = file\n",
    "t[\"tipo\"] = \"NPRV\"\n",
    "t"
   ]
  },
  {
   "cell_type": "code",
   "execution_count": 59,
   "id": "e4548d9c",
   "metadata": {},
   "outputs": [],
   "source": [
    "import requests"
   ]
  },
  {
   "cell_type": "code",
   "execution_count": 60,
   "id": "f85f367a",
   "metadata": {},
   "outputs": [
    {
     "data": {
      "text/plain": [
       "['ConnectTimeout',\n",
       " 'ConnectionError',\n",
       " 'DependencyWarning',\n",
       " 'FileModeWarning',\n",
       " 'HTTPError',\n",
       " 'NullHandler',\n",
       " 'PreparedRequest',\n",
       " 'ReadTimeout',\n",
       " 'Request',\n",
       " 'RequestException',\n",
       " 'RequestsDependencyWarning',\n",
       " 'Response',\n",
       " 'Session',\n",
       " 'Timeout',\n",
       " 'TooManyRedirects',\n",
       " 'URLRequired',\n",
       " '__author__',\n",
       " '__author_email__',\n",
       " '__build__',\n",
       " '__builtins__',\n",
       " '__cached__',\n",
       " '__cake__',\n",
       " '__copyright__',\n",
       " '__description__',\n",
       " '__doc__',\n",
       " '__file__',\n",
       " '__license__',\n",
       " '__loader__',\n",
       " '__name__',\n",
       " '__package__',\n",
       " '__path__',\n",
       " '__spec__',\n",
       " '__title__',\n",
       " '__url__',\n",
       " '__version__',\n",
       " '_check_cryptography',\n",
       " '_internal_utils',\n",
       " 'adapters',\n",
       " 'api',\n",
       " 'auth',\n",
       " 'certs',\n",
       " 'chardet_version',\n",
       " 'charset_normalizer_version',\n",
       " 'check_compatibility',\n",
       " 'codes',\n",
       " 'compat',\n",
       " 'cookies',\n",
       " 'delete',\n",
       " 'exceptions',\n",
       " 'get',\n",
       " 'head',\n",
       " 'hooks',\n",
       " 'logging',\n",
       " 'models',\n",
       " 'options',\n",
       " 'packages',\n",
       " 'patch',\n",
       " 'post',\n",
       " 'put',\n",
       " 'request',\n",
       " 'session',\n",
       " 'sessions',\n",
       " 'ssl',\n",
       " 'status_codes',\n",
       " 'structures',\n",
       " 'urllib3',\n",
       " 'utils',\n",
       " 'warnings']"
      ]
     },
     "execution_count": 60,
     "metadata": {},
     "output_type": "execute_result"
    }
   ],
   "source": [
    "dir(requests)"
   ]
  },
  {
   "cell_type": "code",
   "execution_count": 73,
   "id": "d98bcebc",
   "metadata": {},
   "outputs": [],
   "source": [
    "r = requests.get('https://api.github.com/events')"
   ]
  },
  {
   "cell_type": "code",
   "execution_count": 74,
   "id": "d8582c09",
   "metadata": {},
   "outputs": [
    {
     "data": {
      "text/plain": [
       "['__attrs__',\n",
       " '__bool__',\n",
       " '__class__',\n",
       " '__delattr__',\n",
       " '__dict__',\n",
       " '__dir__',\n",
       " '__doc__',\n",
       " '__enter__',\n",
       " '__eq__',\n",
       " '__exit__',\n",
       " '__format__',\n",
       " '__ge__',\n",
       " '__getattribute__',\n",
       " '__getstate__',\n",
       " '__gt__',\n",
       " '__hash__',\n",
       " '__init__',\n",
       " '__init_subclass__',\n",
       " '__iter__',\n",
       " '__le__',\n",
       " '__lt__',\n",
       " '__module__',\n",
       " '__ne__',\n",
       " '__new__',\n",
       " '__nonzero__',\n",
       " '__reduce__',\n",
       " '__reduce_ex__',\n",
       " '__repr__',\n",
       " '__setattr__',\n",
       " '__setstate__',\n",
       " '__sizeof__',\n",
       " '__str__',\n",
       " '__subclasshook__',\n",
       " '__weakref__',\n",
       " '_content',\n",
       " '_content_consumed',\n",
       " '_next',\n",
       " 'apparent_encoding',\n",
       " 'close',\n",
       " 'connection',\n",
       " 'content',\n",
       " 'cookies',\n",
       " 'elapsed',\n",
       " 'encoding',\n",
       " 'headers',\n",
       " 'history',\n",
       " 'is_permanent_redirect',\n",
       " 'is_redirect',\n",
       " 'iter_content',\n",
       " 'iter_lines',\n",
       " 'json',\n",
       " 'links',\n",
       " 'next',\n",
       " 'ok',\n",
       " 'raise_for_status',\n",
       " 'raw',\n",
       " 'reason',\n",
       " 'request',\n",
       " 'status_code',\n",
       " 'text',\n",
       " 'url']"
      ]
     },
     "execution_count": 74,
     "metadata": {},
     "output_type": "execute_result"
    }
   ],
   "source": [
    "dir(r)"
   ]
  },
  {
   "cell_type": "code",
   "execution_count": 125,
   "id": "4caa8b2f",
   "metadata": {},
   "outputs": [],
   "source": [
    "def get_headers_post():\n",
    "    headers = {}\n",
    "    headers['X-CSRF-token'] = \"uYLIZReR1AfBG5lbAfjEoQUCCn61mPUJ\"\n",
    "    headers['Cookie'] = \"JSESSIONID=979DD1A31ED7F160EF68A93BC980AF57\"\n",
    "\n",
    "    headers['Authorization'] = \"Basic c2ItMTEzYmJiNTktNDhkYy00ZjU4LTlhOWUtNjZkYmJiM2NkYmZiIWIxMzE0NjR8aXQtcnQtc2FwLWNsb3VkLWZvdW5kcnktZGV2LXF1YS1mYXVvcTc2OSFiMTE3OTEyOjBlNmI4MGU5LTMyNmEtNDhkYy04YTVhLWRkZDYxMTgyMWZiZiRCUEhHOFcwWlZKaVQyT0VWNUp3NzQ0VEpOSDMwMzJ5ZFVaT2U4YnMtcl9RPQ==\"\n",
    "    headers['Accept'] = 'application/json' \n",
    "    headers['Content-Type'] = 'application/json' \n",
    "\n",
    "    return headers\n",
    "    \n",
    "    "
   ]
  },
  {
   "cell_type": "code",
   "execution_count": 126,
   "id": "e93434d6",
   "metadata": {},
   "outputs": [],
   "source": [
    "payload = {}\n",
    "realfile=r\"C:\\Users\\f.faccia\\Downloads\\0187092455.pdf\"\n",
    "#base64.b64encode(open(realfile,\"rb\").read())\n",
    "url=\"https://webhook.site/0a144bdb-da97-4808-99b8-e4f8a5e03a7a\"\n",
    "url=\"https://sap-cloud-foundry-dev-qua-fauoq769.it-cpi018-rt.cfapps.eu10-003.hana.ondemand.com/http/CEVA/InsertAttachment\"\n",
    "\n",
    "#payload = json.loads(template_body)\n",
    "payload[\"vbeln\"] = \"0187092455\"\n",
    "payload[\"file\"] = base64.b64encode(open(realfile,\"rb\").read()).decode('utf8')\n",
    "payload[\"nomefile\"] = os.path.basename(realfile)\n",
    "payload[\"tipo\"] = \"DDT\""
   ]
  },
  {
   "cell_type": "code",
   "execution_count": 127,
   "id": "b5cff944",
   "metadata": {},
   "outputs": [],
   "source": [
    "r = requests.post(url, headers=get_headers_post(), data=json.dumps(payload))"
   ]
  },
  {
   "cell_type": "code",
   "execution_count": 130,
   "id": "757bac8d",
   "metadata": {},
   "outputs": [
    {
     "data": {
      "text/plain": [
       "'{\"error\":{\"code\":\"ZCEVA_ATTACH/002\",\"message\":\"Consegna Inesistente\",\"errordetails\":{\"errordetail\":{\"code\":\"ZCEVA_ATTACH/002\",\"message\":\"Consegna Inesistente\"}}}}'"
      ]
     },
     "execution_count": 130,
     "metadata": {},
     "output_type": "execute_result"
    }
   ],
   "source": [
    "r.text"
   ]
  },
  {
   "cell_type": "code",
   "execution_count": 124,
   "id": "e6a32430",
   "metadata": {},
   "outputs": [],
   "source": [
    "with open(r\"C:\\Users\\f.faccia\\Downloads\\0187092455.json\", 'w') as outfile:\n",
    "    outfile.write(json.dumps(payload))"
   ]
  },
  {
   "cell_type": "code",
   "execution_count": null,
   "id": "025c6aba",
   "metadata": {},
   "outputs": [],
   "source": [
    "'{\"error\":{\"code\":\"ZCEVA_ATTACH/002\",\"message\":\"Consegna Inesistente\",\"errordetails\":{\"errordetail\":{\"code\":\"ZCEVA_ATTACH/002\",\"message\":\"Consegna Inesistente\"}}}}'"
   ]
  },
  {
   "cell_type": "code",
   "execution_count": 132,
   "id": "ac487dde",
   "metadata": {},
   "outputs": [
    {
     "name": "stdout",
     "output_type": "stream",
     "text": [
      "name status_codes\n",
      "continue 100\n",
      "CONTINUE 100\n",
      "switching_protocols 101\n",
      "SWITCHING_PROTOCOLS 101\n",
      "processing 102\n",
      "PROCESSING 102\n",
      "checkpoint 103\n",
      "CHECKPOINT 103\n",
      "uri_too_long 122\n",
      "URI_TOO_LONG 122\n",
      "request_uri_too_long 122\n",
      "REQUEST_URI_TOO_LONG 122\n",
      "ok 200\n",
      "OK 200\n",
      "okay 200\n",
      "OKAY 200\n",
      "all_ok 200\n",
      "ALL_OK 200\n",
      "all_okay 200\n",
      "ALL_OKAY 200\n",
      "all_good 200\n",
      "ALL_GOOD 200\n",
      "\\o/ 200\n",
      "✓ 200\n",
      "created 201\n",
      "CREATED 201\n",
      "accepted 202\n",
      "ACCEPTED 202\n",
      "non_authoritative_info 203\n",
      "NON_AUTHORITATIVE_INFO 203\n",
      "non_authoritative_information 203\n",
      "NON_AUTHORITATIVE_INFORMATION 203\n",
      "no_content 204\n",
      "NO_CONTENT 204\n",
      "reset_content 205\n",
      "RESET_CONTENT 205\n",
      "reset 205\n",
      "RESET 205\n",
      "partial_content 206\n",
      "PARTIAL_CONTENT 206\n",
      "partial 206\n",
      "PARTIAL 206\n",
      "multi_status 207\n",
      "MULTI_STATUS 207\n",
      "multiple_status 207\n",
      "MULTIPLE_STATUS 207\n",
      "multi_stati 207\n",
      "MULTI_STATI 207\n",
      "multiple_stati 207\n",
      "MULTIPLE_STATI 207\n",
      "already_reported 208\n",
      "ALREADY_REPORTED 208\n",
      "im_used 226\n",
      "IM_USED 226\n",
      "multiple_choices 300\n",
      "MULTIPLE_CHOICES 300\n",
      "moved_permanently 301\n",
      "MOVED_PERMANENTLY 301\n",
      "moved 301\n",
      "MOVED 301\n",
      "\\o- 301\n",
      "found 302\n",
      "FOUND 302\n",
      "see_other 303\n",
      "SEE_OTHER 303\n",
      "other 303\n",
      "OTHER 303\n",
      "not_modified 304\n",
      "NOT_MODIFIED 304\n",
      "use_proxy 305\n",
      "USE_PROXY 305\n",
      "switch_proxy 306\n",
      "SWITCH_PROXY 306\n",
      "temporary_redirect 307\n",
      "TEMPORARY_REDIRECT 307\n",
      "temporary_moved 307\n",
      "TEMPORARY_MOVED 307\n",
      "temporary 307\n",
      "TEMPORARY 307\n",
      "permanent_redirect 308\n",
      "PERMANENT_REDIRECT 308\n",
      "resume_incomplete 308\n",
      "RESUME_INCOMPLETE 308\n",
      "resume 308\n",
      "RESUME 308\n",
      "bad_request 400\n",
      "BAD_REQUEST 400\n",
      "bad 400\n",
      "BAD 400\n",
      "unauthorized 401\n",
      "UNAUTHORIZED 401\n",
      "payment_required 402\n",
      "PAYMENT_REQUIRED 402\n",
      "payment 402\n",
      "PAYMENT 402\n",
      "forbidden 403\n",
      "FORBIDDEN 403\n",
      "not_found 404\n",
      "NOT_FOUND 404\n",
      "-o- 404\n",
      "-O- 404\n",
      "method_not_allowed 405\n",
      "METHOD_NOT_ALLOWED 405\n",
      "not_allowed 405\n",
      "NOT_ALLOWED 405\n",
      "not_acceptable 406\n",
      "NOT_ACCEPTABLE 406\n",
      "proxy_authentication_required 407\n",
      "PROXY_AUTHENTICATION_REQUIRED 407\n",
      "proxy_auth 407\n",
      "PROXY_AUTH 407\n",
      "proxy_authentication 407\n",
      "PROXY_AUTHENTICATION 407\n",
      "request_timeout 408\n",
      "REQUEST_TIMEOUT 408\n",
      "timeout 408\n",
      "TIMEOUT 408\n",
      "conflict 409\n",
      "CONFLICT 409\n",
      "gone 410\n",
      "GONE 410\n",
      "length_required 411\n",
      "LENGTH_REQUIRED 411\n",
      "precondition_failed 412\n",
      "PRECONDITION_FAILED 412\n",
      "precondition 428\n",
      "PRECONDITION 428\n",
      "request_entity_too_large 413\n",
      "REQUEST_ENTITY_TOO_LARGE 413\n",
      "request_uri_too_large 414\n",
      "REQUEST_URI_TOO_LARGE 414\n",
      "unsupported_media_type 415\n",
      "UNSUPPORTED_MEDIA_TYPE 415\n",
      "unsupported_media 415\n",
      "UNSUPPORTED_MEDIA 415\n",
      "media_type 415\n",
      "MEDIA_TYPE 415\n",
      "requested_range_not_satisfiable 416\n",
      "REQUESTED_RANGE_NOT_SATISFIABLE 416\n",
      "requested_range 416\n",
      "REQUESTED_RANGE 416\n",
      "range_not_satisfiable 416\n",
      "RANGE_NOT_SATISFIABLE 416\n",
      "expectation_failed 417\n",
      "EXPECTATION_FAILED 417\n",
      "im_a_teapot 418\n",
      "IM_A_TEAPOT 418\n",
      "teapot 418\n",
      "TEAPOT 418\n",
      "i_am_a_teapot 418\n",
      "I_AM_A_TEAPOT 418\n",
      "misdirected_request 421\n",
      "MISDIRECTED_REQUEST 421\n",
      "unprocessable_entity 422\n",
      "UNPROCESSABLE_ENTITY 422\n",
      "unprocessable 422\n",
      "UNPROCESSABLE 422\n",
      "locked 423\n",
      "LOCKED 423\n",
      "failed_dependency 424\n",
      "FAILED_DEPENDENCY 424\n",
      "dependency 424\n",
      "DEPENDENCY 424\n",
      "unordered_collection 425\n",
      "UNORDERED_COLLECTION 425\n",
      "unordered 425\n",
      "UNORDERED 425\n",
      "upgrade_required 426\n",
      "UPGRADE_REQUIRED 426\n",
      "upgrade 426\n",
      "UPGRADE 426\n",
      "precondition_required 428\n",
      "PRECONDITION_REQUIRED 428\n",
      "too_many_requests 429\n",
      "TOO_MANY_REQUESTS 429\n",
      "too_many 429\n",
      "TOO_MANY 429\n",
      "header_fields_too_large 431\n",
      "HEADER_FIELDS_TOO_LARGE 431\n",
      "fields_too_large 431\n",
      "FIELDS_TOO_LARGE 431\n",
      "no_response 444\n",
      "NO_RESPONSE 444\n",
      "none 444\n",
      "NONE 444\n",
      "retry_with 449\n",
      "RETRY_WITH 449\n",
      "retry 449\n",
      "RETRY 449\n",
      "blocked_by_windows_parental_controls 450\n",
      "BLOCKED_BY_WINDOWS_PARENTAL_CONTROLS 450\n",
      "parental_controls 450\n",
      "PARENTAL_CONTROLS 450\n",
      "unavailable_for_legal_reasons 451\n",
      "UNAVAILABLE_FOR_LEGAL_REASONS 451\n",
      "legal_reasons 451\n",
      "LEGAL_REASONS 451\n",
      "client_closed_request 499\n",
      "CLIENT_CLOSED_REQUEST 499\n",
      "internal_server_error 500\n",
      "INTERNAL_SERVER_ERROR 500\n",
      "server_error 500\n",
      "SERVER_ERROR 500\n",
      "/o\\ 500\n",
      "✗ 500\n",
      "not_implemented 501\n",
      "NOT_IMPLEMENTED 501\n",
      "bad_gateway 502\n",
      "BAD_GATEWAY 502\n",
      "service_unavailable 503\n",
      "SERVICE_UNAVAILABLE 503\n",
      "unavailable 503\n",
      "UNAVAILABLE 503\n",
      "gateway_timeout 504\n",
      "GATEWAY_TIMEOUT 504\n",
      "http_version_not_supported 505\n",
      "HTTP_VERSION_NOT_SUPPORTED 505\n",
      "http_version 505\n",
      "HTTP_VERSION 505\n",
      "variant_also_negotiates 506\n",
      "VARIANT_ALSO_NEGOTIATES 506\n",
      "insufficient_storage 507\n",
      "INSUFFICIENT_STORAGE 507\n",
      "bandwidth_limit_exceeded 509\n",
      "BANDWIDTH_LIMIT_EXCEEDED 509\n",
      "bandwidth 509\n",
      "BANDWIDTH 509\n",
      "not_extended 510\n",
      "NOT_EXTENDED 510\n",
      "network_authentication_required 511\n",
      "NETWORK_AUTHENTICATION_REQUIRED 511\n",
      "network_auth 511\n",
      "NETWORK_AUTH 511\n",
      "network_authentication 511\n",
      "NETWORK_AUTHENTICATION 511\n"
     ]
    }
   ],
   "source": [
    "for i,k in requests.codes.__dict__.items():\n",
    "    print(i,k)"
   ]
  },
  {
   "cell_type": "code",
   "execution_count": 138,
   "id": "60c502c7",
   "metadata": {},
   "outputs": [],
   "source": [
    "o=json.loads(r.text)"
   ]
  },
  {
   "cell_type": "code",
   "execution_count": 139,
   "id": "2be70ca2",
   "metadata": {},
   "outputs": [
    {
     "data": {
      "text/plain": [
       "{'code': 'ZCEVA_ATTACH/002',\n",
       " 'message': 'Consegna Inesistente',\n",
       " 'errordetails': {'errordetail': {'code': 'ZCEVA_ATTACH/002',\n",
       "   'message': 'Consegna Inesistente'}}}"
      ]
     },
     "execution_count": 139,
     "metadata": {},
     "output_type": "execute_result"
    }
   ],
   "source": [
    "o['error']"
   ]
  }
 ],
 "metadata": {
  "kernelspec": {
   "display_name": "post",
   "language": "python",
   "name": "post"
  },
  "language_info": {
   "codemirror_mode": {
    "name": "ipython",
    "version": 3
   },
   "file_extension": ".py",
   "mimetype": "text/x-python",
   "name": "python",
   "nbconvert_exporter": "python",
   "pygments_lexer": "ipython3",
   "version": "3.9.5"
  }
 },
 "nbformat": 4,
 "nbformat_minor": 5
}
